{
 "cells": [
  {
   "cell_type": "code",
   "execution_count": 4,
   "metadata": {},
   "outputs": [],
   "source": [
    "import our_utils"
   ]
  },
  {
   "cell_type": "code",
   "execution_count": 5,
   "metadata": {},
   "outputs": [],
   "source": [
    "s = '/Users/NickHarmening/adl4cv/data/02747177/1ce689a5c781af1bcf01bc59d215f0/models/model_normalized.obj'\n",
    "#s = '/Users/fabischramm/Documents/ADL4CV/data/data/02747177/1b7d468a27208ee3dad910e221d16b18/models/model_normalized.obj'\n",
    "our_utils.convert_and_sample(s,n=2000)"
   ]
  },
  {
   "cell_type": "code",
   "execution_count": null,
   "metadata": {},
   "outputs": [],
   "source": [
    "#points_xyv = d[\"points\"][[\"x\",\"y\",\"z\"]].values\n",
    "#v1_xyz = points_xyv[d[\"mesh\"][\"v1\"]]\n",
    "#v2_xyz = points_xyv[d[\"mesh\"][\"v2\"]]\n",
    "#v3_xyz = points_xyv[d[\"mesh\"][\"v3\"]]"
   ]
  },
  {
   "cell_type": "code",
   "execution_count": null,
   "metadata": {},
   "outputs": [],
   "source": [
    "#plydata = PlyData.read('ShapeNet_example/1a04e3eab45ca15dd86060f189eb133/sampled_weighted.ply') #PointNet load"
   ]
  }
 ],
 "metadata": {
  "kernelspec": {
   "display_name": "Python 3",
   "language": "python",
   "name": "python3"
  },
  "language_info": {
   "codemirror_mode": {
    "name": "ipython",
    "version": 3
   },
   "file_extension": ".py",
   "mimetype": "text/x-python",
   "name": "python",
   "nbconvert_exporter": "python",
   "pygments_lexer": "ipython3",
   "version": "3.6.7"
  }
 },
 "nbformat": 4,
 "nbformat_minor": 2
}
