{
 "cells": [
  {
   "cell_type": "code",
   "execution_count": 2,
   "metadata": {},
   "outputs": [],
   "source": [
    "import create_dict\n",
    "import torch\n",
    "import os"
   ]
  },
  {
   "cell_type": "markdown",
   "metadata": {},
   "source": [
    "# Clean Data"
   ]
  },
  {
   "cell_type": "code",
   "execution_count": null,
   "metadata": {},
   "outputs": [],
   "source": [
    "folder_name = '/data'\n",
    "create_dict.clean_obj(folder_name)"
   ]
  },
  {
   "cell_type": "markdown",
   "metadata": {},
   "source": [
    "# Generate Dataset"
   ]
  },
  {
   "cell_type": "code",
   "execution_count": 3,
   "metadata": {
    "scrolled": true
   },
   "outputs": [
    {
     "name": "stdout",
     "output_type": "stream",
     "text": [
      "success: 91db88d4d0956e92a9a12c50dc330a66 03211117 # 1\n",
      "success: eb2b450565c77e3efc7ff8f848d1c6c9 03211117 # 2\n",
      "success: 871dcd6740ed8d2891a7ac029a825f73 03211117 # 3\n",
      "success: aa73f1b28817376c6cf19e722198d69 03211117 # 4\n",
      "success: 4516c31dae48a0efbff4c0ca0d98b77 03211117 # 5\n",
      "success: f4a259b4778a77b37b2bb75885cfc44 03211117 # 6\n",
      "success: 5f1abf912782e0d7350be33372161c1b 02871439 # 1\n",
      "success: 9181c8bc52315206d810b14a81e12eca 02871439 # 2\n",
      "success: 31a1fd4a86320f332c45f75322191dd7 02871439 # 3\n",
      "success: 702b30de33018393e3c9c743e6bdf782 02871439 # 4\n",
      "success: ad808d321f7cd914c6d17bc3a482f77 02871439 # 5\n",
      "success: b26b03578ceefc20f9c0f9cbb10e38a2 02871439 # 6\n",
      "success: 640f12d1b7bdd262868fb986bc092533 03046257 # 1\n",
      "success: 5c851029d69c6252c834958aed613724 03046257 # 2\n",
      "success: 6c010bbc4ec34296291d2d0d560233f4 03046257 # 3\n",
      "success: 2f484b80a9a0f8a1c1bd423f37647123 03046257 # 4\n",
      "success: e5b583b0cf478984d781754d41e2576e 03046257 # 5\n",
      "success: 1ce45a951007b5948ead471f0d2cadc0 03046257 # 6\n",
      "success: 5abaee58835d67975f9f6f4c95ed18d0 02933112 # 1\n",
      "success: 80a3b5b036021b8e404dc8be84d677e3 02933112 # 2\n",
      "success: 56e1f35c70ad2859c59350d819542ec7 02933112 # 3\n",
      "success: 321eb85037156544799b0b9a0d4a12cf 02933112 # 4\n",
      "success: 8b23fc57517a57d0523cc82298d77b36 02933112 # 5\n",
      "success: b7dc1e9a3949991747d7c2aae1e5c61 02933112 # 6\n",
      "success: 6a98c9c55ecc6a2f4c3aee8e9d3a6ffa 03337140 # 1\n",
      "success: 86fbcd62054c7dbf4c3aee8e9d3a6ffa 03337140 # 2\n",
      "success: de98cdf56188a576731d11154716a6b8 03337140 # 3\n",
      "success: 137369963be020cece5d6e9371bb5c33 03337140 # 4\n",
      "success: 9404bf7671ce9cc52871cc0b3cc1a485 03337140 # 5\n",
      "success: 5ce6aa474b597edb4d3a0a56bdd58a7d 03337140 # 6\n",
      "success: b838c5bc5241a44bf2f2371022475a36 02747177 # 1\n",
      "success: fe2b3c0ca29baeaed2b12aa6a0f050b3 02747177 # 2\n",
      "success: 2f1510cbda5a89e2bf3f7db9590eef44 02747177 # 3\n",
      "success: 555f9430c2ca273ccb2a965e75be701c 02747177 # 4\n",
      "success: 161e5e86fa48686888cad7f6c0e6001 02747177 # 5\n",
      "success: 75dbeb01fdc7f265d0a96520c31993ad 02747177 # 6\n",
      "success: a97a00bee5585e49f05defab1869a09 03001627 # 1\n",
      "success: 662928421872897f489452a0032ea575 03001627 # 2\n",
      "success: 97f1121561e481a3a1f1563b05df75c6 03001627 # 3\n",
      "success: 4607280c3a4286b7319c7c751f273141 03001627 # 4\n",
      "success: 6a878ab386c927e6d1a63a2e2039ff73 03001627 # 5\n",
      "success: c9cc8df04240b27890907a4c1a185a7 03001627 # 6\n",
      "success: 1101146651cd32a1bd09c0f277d16187 02818832 # 1\n",
      "success: 90d5d27ab2a94109a043a79379c5661d 02818832 # 2\n",
      "success: bb1f8f4efd67582aa4aa57d4816c68a3 02818832 # 3\n",
      "success: 1ef20a206e940a4bd79d7db7b8ed51c8 02818832 # 4\n",
      "success: a8cfed0a1b9451c9d213467246722099 02818832 # 5\n",
      "success: c758919a1fbe3d0c9cef17528faf7bc5 02818832 # 6\n",
      "success: e3d3c8dfcb19d920cc3e9831f31c9164 04256520 # 1\n",
      "success: f4370eb6449a1e8e191682d3b3321017 04256520 # 2\n",
      "success: a9a8156722fa81dcbc36ee6cb276b00a 04256520 # 3\n",
      "success: 1ff1912cc74a76c3b2152dcc3ff6a477 04256520 # 4\n",
      "success: bf816001f25b2ff822e11aea23332c0 04256520 # 5\n",
      "success: c49d9fb6c8b32b265beaf00da5b709c2 04256520 # 6\n",
      "success: 7b92f6facc2a27bc84cc0348a73b80c3 04379243 # 1\n",
      "success: 4442b044230ac5c043dbb6421d614c0d 04379243 # 2\n",
      "success: 97610f0edc786956d5cc62720ec8273c 04379243 # 3\n",
      "success: c363667046c562c7d9c568a52c35ec71 04379243 # 4\n",
      "success: 6c763c259b83b9bcbeedb4c8fd29e2d1 04379243 # 5\n",
      "success: 56e46d8bbb70b17491829b477862aff6 04379243 # 6\n",
      "success: f79cd66d0a369bdb29a42a0444436860 03636649 # 1\n",
      "success: 5aaf61da59f1c0773225afab722d9fd2 03636649 # 2\n",
      "success: 2388c99892c2185268d1b9a1d97e2846 03636649 # 3\n",
      "success: 5830c288acd8dbc5f71f6713526f9507 03636649 # 4\n",
      "success: 221e2caf85f9bc5a2f9aa70de681f2c4 03636649 # 5\n",
      "success: e8006513d5f46d79e738f481f8560d58 03636649 # 6\n",
      "success: 2a77ba363947f4f38a9641b35ef045a 03691459 # 1\n",
      "success: 2629234a2fa847dd9b106ceb230ede0 03691459 # 2\n",
      "success: 74a4f472155ed5a3b2bf4f773fe0e622 03691459 # 3\n",
      "success: 62021776119f573bc7c51d4ea74651a7 03691459 # 4\n",
      "success: 9403368e6a0bebf5664c61db46dc2c9e 03691459 # 5\n",
      "success: f6958e13ea65bd521b45df3fb820c9cc 03691459 # 6\n",
      "success: cb38405e384c79c05e4e385b035691bb 02808440 # 1\n",
      "success: 95b7632f605a0223321831d2245cf06 02808440 # 2\n",
      "success: 2bbad1610128749e1c17aef130ed6213 02808440 # 3\n",
      "success: e37fc3b3ec688a44a451f23dc98be5f0 02808440 # 4\n",
      "success: 6787698a1fbd9a6d44221bef0fa3c36b 02808440 # 5\n",
      "success: 1cc2487bfbc0209e3321831d2245cf06 02808440 # 6\n",
      "{'03211117': 6, '02871439': 6, '03046257': 6, '02933112': 6, '03337140': 6, '02747177': 6, '03001627': 6, '02818832': 6, '04256520': 6, '04379243': 6, '03636649': 6, '03691459': 6, '02808440': 6}\n",
      "Loaded 5032 word vectors.\n",
      "length dict: 78\n",
      "Number of train samples: 63\n",
      "Number of val samples: 8\n",
      "Number of test samples: 7\n",
      "Created following files:\n",
      "data_train_testf.json\n",
      "data_val_testf.json\n",
      "data_test_testf.json\n",
      "class_dict_testf.json\n"
     ]
    }
   ],
   "source": [
    "input_folder = '/data'\n",
    "suffix = '_testf' #suffix will append data_trainxxxx.json\n",
    "max_elements_per_class = 5\n",
    "create_dict.create_dictionary(input_folder, max_elements_per_class, suffix)"
   ]
  },
  {
   "cell_type": "markdown",
   "metadata": {},
   "source": [
    "# Initialize Network"
   ]
  },
  {
   "cell_type": "code",
   "execution_count": 16,
   "metadata": {},
   "outputs": [],
   "source": [
    "import SiameseNet\n",
    "\n",
    "batch_size = 10\n",
    "net = SiameseNet.SiameseNet(batch_size)\n",
    "#suffix = 'testf' # comment in if not coming from generating the dataset\n",
    "\n",
    "\n",
    "path_to_params = \"models/test.pt\" # if file does not exist or is empty it starts from untrained and later saves to the file\n",
    "\n",
    "working_dir = os.getcwd()\n",
    "data_dir_train = os.path.join(working_dir, 'data_train'+suffix+'.json')\n",
    "data_dir_val = os.path.join(working_dir, 'data_val'+suffix+'.json')\n",
    "class_dir = os.path.join(working_dir, 'class_dict'+suffix+'.json')\n",
    "\n",
    "if os.path.isfile(path_to_params):\n",
    "    if os.stat(path_to_params).st_size != 0:\n",
    "        net.load_state_dict(torch.load(path_to_params))  #Loads pretrained net if file exists and if not empty\n",
    "else:\n",
    "    open(path_to_params, \"x\") #Creates parameter file if it does not exist"
   ]
  },
  {
   "cell_type": "markdown",
   "metadata": {},
   "source": [
    "# Train Network"
   ]
  },
  {
   "cell_type": "raw",
   "metadata": {},
   "source": [
    "#execute for tensorboard\n",
    "tensorboard --logdir runs"
   ]
  },
  {
   "cell_type": "code",
   "execution_count": 18,
   "metadata": {},
   "outputs": [],
   "source": [
    "#training parameters\n",
    "\n",
    "writer_suffix = 'testing'\n",
    "margin = 0.5\n",
    "num_epochs = 1\n",
    "print_batch = 1\n",
    "lr = 0.0001\n",
    "\n"
   ]
  },
  {
   "cell_type": "code",
   "execution_count": 19,
   "metadata": {
    "scrolled": true
   },
   "outputs": [
    {
     "name": "stdout",
     "output_type": "stream",
     "text": [
      "63 train triplets generated -> return dict\n",
      "Loaded 5032 word vectors.\n",
      "Number of training triplets: 63\n",
      "[1,     2] loss: 1.412\n",
      "[1,     3] loss: 0.486\n",
      "[1,     4] loss: 0.923\n",
      "[1,     5] loss: 0.262\n",
      "[1,     6] loss: 1.744\n",
      "[1,     7] loss: 0.932\n",
      "[1,     8] loss: 0.964\n",
      "[1,     9] loss: 0.454\n",
      "[1,    10] loss: 1.048\n",
      "[1,    11] loss: 0.904\n",
      "[1,    12] loss: 1.166\n",
      "8 val triplets generated\n",
      "Loaded 5032 word vectors.\n",
      "Doing Evaluation with 8.0 validation triplets\n",
      "Validation Loss: 0.5753235816955566\n",
      "Finished Training\n"
     ]
    }
   ],
   "source": [
    "net = SiameseNet.train(net, num_epochs, margin, lr, batch_size, print_batch, \n",
    "                       data_dir_train, data_dir_val, writer_suffix, path_to_params, working_dir)"
   ]
  },
  {
   "cell_type": "markdown",
   "metadata": {},
   "source": [
    "# Validation"
   ]
  },
  {
   "cell_type": "code",
   "execution_count": 11,
   "metadata": {},
   "outputs": [
    {
     "name": "stdout",
     "output_type": "stream",
     "text": [
      "8 val triplets generated\n",
      "Loaded 5032 word vectors.\n",
      "Number of validation triplets: 8\n",
      "Doing Evaluation\n",
      "0 [2 4 3 1 0]\n",
      "1 [2 4 3 1 0]\n",
      "2 [2 4 3 1 0]\n",
      "3 [2 4 3 1 0]\n",
      "4 [2 4 3 1 0]\n",
      "precision: 1.0\n",
      "recall: 1.0\n",
      "fscore: 1.0\n",
      "NDCG: 0.5896918237758785\n"
     ]
    }
   ],
   "source": [
    "writer_suffix = 'Val'\n",
    "margin = 0.5\n",
    "SiameseNet.val(net, margin,batch_size, data_dir_val, writer_suffix, working_dir, class_dir)"
   ]
  },
  {
   "cell_type": "code",
   "execution_count": null,
   "metadata": {},
   "outputs": [],
   "source": []
  }
 ],
 "metadata": {
  "kernelspec": {
   "display_name": "Python 3",
   "language": "python",
   "name": "python3"
  },
  "language_info": {
   "codemirror_mode": {
    "name": "ipython",
    "version": 3
   },
   "file_extension": ".py",
   "mimetype": "text/x-python",
   "name": "python",
   "nbconvert_exporter": "python",
   "pygments_lexer": "ipython3",
   "version": "3.6.8"
  }
 },
 "nbformat": 4,
 "nbformat_minor": 2
}
