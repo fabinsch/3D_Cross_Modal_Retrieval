{
 "cells": [
  {
   "cell_type": "code",

   "execution_count": null,
   "metadata": {},
   "outputs": [],
   "source": [
    "import sys\n",
    "sys.path.append('/usr/local/lib/python2.7/dist-packages')\n",
    "sys.path.append('/usr/local/lib/python3.5/dist-packages')\n",
    "sys.path"
   ]
  },
  {
   "cell_type": "code",
   "execution_count": null,

   "metadata": {},
   "outputs": [],
   "source": [
    "import create_dict\n",
    "import torch\n",
    "import os\n",
    "import json\n",
    "import utils\n",
    "import numpy as np"
   ]
  },
  {
   "cell_type": "markdown",
   "metadata": {},
   "source": [
    "# Clean Data"
   ]
  },
  {
   "cell_type": "code",
   "execution_count": 7,
   "metadata": {},
   "outputs": [],
   "source": [
    "#folder_name = '/data2'\n",
    "#create_dict.clean_obj(folder_name)"
   ]
  },
  {
   "cell_type": "markdown",
   "metadata": {},
   "source": [
    "# Generate Dataset"
   ]
  },
  {
   "cell_type": "code",

   "execution_count": null,
   "metadata": {},
   "outputs": [],
   "source": [
    "#!pip3 freeze | grep PyWavefront"
   ]
  },
  {
   "cell_type": "code",
   "execution_count": null,
   "metadata": {},
   "outputs": [],
   "source": [
    "#import pywavefront\n",
    "#mesh2 = pywavefront.Wavefront('/home/.schramm/Documents/3d_retrieval/data/02747177/8bdea15ae5d929d0a2eb129d649f68cf/models/model_normalized.obj', collect_faces='True')\n"
   ]
  },
  {
   "cell_type": "code",
   "execution_count": null,

   "metadata": {
    "scrolled": true
   },
   "outputs": [
    {
     "name": "stdout",
     "output_type": "stream",
     "text": [
      "success: 91db88d4d0956e92a9a12c50dc330a66 03211117 # 1\n",
      "success: eb2b450565c77e3efc7ff8f848d1c6c9 03211117 # 2\n",
      "success: 871dcd6740ed8d2891a7ac029a825f73 03211117 # 3\n",
      "success: aa73f1b28817376c6cf19e722198d69 03211117 # 4\n",
      "success: 4516c31dae48a0efbff4c0ca0d98b77 03211117 # 5\n",
      "success: f4a259b4778a77b37b2bb75885cfc44 03211117 # 6\n",
      "success: cd71c33773db5570be7e507ed67c0331 03211117 # 7\n",
      "success: 64c23d38d98f7529811348287b48cb45 03211117 # 8\n",
      "success: 2b0b8c07582c83d426bb7052f66b6d5b 03211117 # 9\n",
      "success: d53e94b52e0cd47f71dd5d95c394249c 03211117 # 10\n",
      "success: 94482409d0396dfa3f8f528a267748f 03211117 # 11\n",
      "success: 90d97637c01fd05e59122da3e1ccb92c 03211117 # 12\n",
      "success: fac8bc5420f9d472b36c473722d8f02c 03211117 # 13\n",
      "success: 36ea450f5d479481c795085b4d203932 03211117 # 14\n",
      "success: 5286df5fdb7ab5cf403c2939fca0114 03211117 # 15\n",
      "success: bb2639fdd7ee85202f58405e4baaa2ed 03211117 # 16\n",
      "success: f2f41913123a7a7e4b87db09ac4cfa73 03211117 # 17\n",
      "success: 5fb06d76ec44a16bfa6dbbeb09c2f316 03211117 # 18\n",
      "success: 2190a888d3f7ba6bd3ffd38a8449bde8 03211117 # 19\n",
      "success: bfa95d845671c54c26d3b1eda72fa17b 03211117 # 20\n",
      "success: d85f501bf76933c609d7d8d27dbba7f 03211117 # 21\n",
      "success: 5f1abf912782e0d7350be33372161c1b 02871439 # 1\n",
      "success: 9181c8bc52315206d810b14a81e12eca 02871439 # 2\n",
      "success: 31a1fd4a86320f332c45f75322191dd7 02871439 # 3\n",
      "success: 702b30de33018393e3c9c743e6bdf782 02871439 # 4\n",
      "success: ad808d321f7cd914c6d17bc3a482f77 02871439 # 5\n",
      "success: b26b03578ceefc20f9c0f9cbb10e38a2 02871439 # 6\n",
      "success: d7f1a22419268800e76bc197b3a3ffc0 02871439 # 7\n",
      "success: a372136702c46b0250a059086f5706fb 02871439 # 8\n",
      "success: 71b87045c8fbce807c7680c7449f4f61 02871439 # 9\n",
      "success: 6422a1f1dae8fd231e23f97c3de97d74 02871439 # 10\n",
      "success: ffdc8c4c72d7ca59ccbf1ee2df182caa 02871439 # 11\n",
      "success: fd7f43c0ac27aa33b2592439813a5d1c 02871439 # 12\n",
      "success: 1e95c521f70972a2f5758e5628273c4e 02871439 # 13\n",
      "success: 7c1982d2d4a240de3848bf8bbe386d81 02871439 # 14\n",
      "success: 6f65749bdf82cca8d810b14a81e12eca 02871439 # 15\n",
      "success: 538ccfb554d8179bf3bc30c1c812e48 02871439 # 16\n",
      "success: 704e5237bfe45aed809222e4341a7d65 02871439 # 17\n",
      "success: 80386678689904d16421c9121bcb0cd 02871439 # 18\n",
      "success: 64eb95e3fd7cfdf759bc1c69ff20e0 02871439 # 19\n",
      "success: 2b9bb02f657a0e582ade7345ab5b0cf6 02871439 # 20\n",
      "success: 34411a9fa3e00f668cbb8bac2032149c 02871439 # 21\n",
      "success: 640f12d1b7bdd262868fb986bc092533 03046257 # 1\n",
      "success: 5c851029d69c6252c834958aed613724 03046257 # 2\n",
      "success: 6c010bbc4ec34296291d2d0d560233f4 03046257 # 3\n",
      "success: 2f484b80a9a0f8a1c1bd423f37647123 03046257 # 4\n",
      "success: e5b583b0cf478984d781754d41e2576e 03046257 # 5\n",
      "success: 1ce45a951007b5948ead471f0d2cadc0 03046257 # 6\n",
      "success: 425e82131e7a8db3bde2b05b8fa4f117 03046257 # 7\n",
      "success: 845f1b53ad2e0d53b87e0c7ed53711c 03046257 # 8\n",
      "success: 14d26e0c75890a69d1100e95297cce90 03046257 # 9\n",
      "success: 4af34d709f39ab8e76460fd7f97d7f44 03046257 # 10\n",
      "success: 56a3239391f73773a5e3e028709e0474 03046257 # 11\n",
      "success: b43d328f4acf10464b3c42e318f3affc 03046257 # 12\n",
      "success: 835f94a1d33ac78bdd7f1cd6f7ae0960 03046257 # 13\n",
      "success: bb0b0afc8059701076e9713f57a5fcb6 03046257 # 14\n",
      "success: 6245999a79c5d853c31c0b92a775f88b 03046257 # 15\n",
      "success: 81be602470e4fa90b2f671e673cf292b 03046257 # 16\n",
      "success: 14556ed62cba8483365bd0790b72f2a1 03046257 # 17\n",
      "success: 7b99bf2508d8c5f36d684a4a25bbc7fd 03046257 # 18\n",
      "success: 5bbaf43f2f86ba638b33d3087add7a4c 03046257 # 19\n",
      "success: 8426dc58f4b4d94bb43e6e0f22ab9ac9 03046257 # 20\n",
      "success: 32197ef6ce095472e59f529cd1b6faa8 03046257 # 21\n",
      "success: 5abaee58835d67975f9f6f4c95ed18d0 02933112 # 1\n",
      "success: 80a3b5b036021b8e404dc8be84d677e3 02933112 # 2\n",
      "success: 56e1f35c70ad2859c59350d819542ec7 02933112 # 3\n",
      "success: 321eb85037156544799b0b9a0d4a12cf 02933112 # 4\n",
      "success: 8b23fc57517a57d0523cc82298d77b36 02933112 # 5\n",
      "success: b7dc1e9a3949991747d7c2aae1e5c61 02933112 # 6\n",
      "success: a5ce16faa5ecbc4bc6a5c971c030877d 02933112 # 7\n",
      "success: 5f44807953f9babdaf31a22c7bed177d 02933112 # 8\n",
      "success: 6e765437962f4c578e51433393e177c0 02933112 # 9\n",
      "success: ccf7d017b67b51b7b9349bb36676bc81 02933112 # 10\n",
      "success: 95bda55d633ca1824da5feafe6f1c8fc 02933112 # 11\n",
      "success: c18a4772bcfbb98e85bc264270ae0601 02933112 # 12\n",
      "success: 6ab14d89360d0a55ff3ea34d08547895 02933112 # 13\n",
      "success: 132185edbe4f2c5fb4c161851ed2b4e4 02933112 # 14\n",
      "success: a5b61e473c6ceef9f51f77a6d7299806 02933112 # 15\n",
      "success: b184de34d988236464a7317444d5a8d 02933112 # 16\n",
      "success: 3c28e4a1a5154ecc59350d819542ec7 02933112 # 17\n",
      "success: 37e5fcf70007bc26788f926f4d51e733 02933112 # 18\n",
      "success: 7e0483b10eb6ae141620773c2aaaa465 02933112 # 19\n",
      "success: 9b2759851023fad7dedad3eee47fd556 02933112 # 20\n",
      "success: 46bb63196198ffa2fc98aa4b97627df6 02933112 # 21\n",
      "success: 6a98c9c55ecc6a2f4c3aee8e9d3a6ffa 03337140 # 1\n",
      "success: 86fbcd62054c7dbf4c3aee8e9d3a6ffa 03337140 # 2\n",
      "success: de98cdf56188a576731d11154716a6b8 03337140 # 3\n",
      "success: 137369963be020cece5d6e9371bb5c33 03337140 # 4\n",
      "success: 9404bf7671ce9cc52871cc0b3cc1a485 03337140 # 5\n",
      "success: 5ce6aa474b597edb4d3a0a56bdd58a7d 03337140 # 6\n",
      "success: 381cf26b050bf515820018801b237b3d 03337140 # 7\n",
      "success: 7cf0301223e59976e7ecdbe73ef4323c 03337140 # 8\n",
      "success: bd86234b060b77857a50afc9c93f8a50 03337140 # 9\n",
      "success: 6f392c57518e225e7c54607407af3ab6 03337140 # 10\n",
      "success: 149a105979cad722c1467c54b9e09ce5 03337140 # 11\n",
      "success: 4c38f799ecb6cfdbb39d771847f20151 03337140 # 12\n",
      "success: a0a47668bb5a53769a5d5a8c4f511248 03337140 # 13\n",
      "success: 2bbdcfcea1a8c5f3ce5d6e9371bb5c33 03337140 # 14\n",
      "success: 7969fbbc3d46b46e4c3aee8e9d3a6ffa 03337140 # 15\n",
      "success: f44029207e03c4be4c3aee8e9d3a6ffa 03337140 # 16\n",
      "success: fe998d14e236584ec123147a914238ea 03337140 # 17\n",
      "success: c5a97a3868a2c9054c3aee8e9d3a6ffa 03337140 # 18\n",
      "success: 30aa30307b5c651f4c3aee8e9d3a6ffa 03337140 # 19\n",
      "success: bde6f229cd9fc1aaadd6705c8c483552 03337140 # 20\n",
      "success: b8dbf1725cd55f7492d9da2668ec34c 03337140 # 21\n",
      "success: b838c5bc5241a44bf2f2371022475a36 02747177 # 1\n",
      "success: fe2b3c0ca29baeaed2b12aa6a0f050b3 02747177 # 2\n",
      "success: 2f1510cbda5a89e2bf3f7db9590eef44 02747177 # 3\n",
      "success: 555f9430c2ca273ccb2a965e75be701c 02747177 # 4\n",
      "success: 161e5e86fa48686888cad7f6c0e6001 02747177 # 5\n",
      "success: 75dbeb01fdc7f265d0a96520c31993ad 02747177 # 6\n",
      "success: e7682974949a6aadea9a778eef212687 02747177 # 7\n",
      "success: 71c45644821a8961ad5067eac75a07f7 02747177 # 8\n",
      "success: f7c95d62feb4fb03c0d62fb4fabc5d06 02747177 # 9\n",
      "success: 8b0728eb28c1873938f21a3304cc4bdc 02747177 # 10\n",
      "success: 480e98c025179a68b47ef2a0cb1f9cbf 02747177 # 11\n",
      "success: ccd313055ecb8799f155d75bbf62b80 02747177 # 12\n",
      "success: 12c4048e0d2f26a763b2acb037dfbcde 02747177 # 13\n",
      "success: 7069760a16db98f46c9e5b09a1c294d9 02747177 # 14\n",
      "success: 9f4bf5a25f85d12ead5067eac75a07f7 02747177 # 15\n",
      "success: 208777cf36e27cdef4fb4dee5181bee 02747177 # 16\n",
      "success: af1dc226f465990e81faebbdea6bd9be 02747177 # 17\n",
      "success: c2d6739b7d2b6cadad5067eac75a07f7 02747177 # 18\n",
      "success: 48aca9c3a4006a5163b2acb037dfbcde 02747177 # 19\n",
      "success: 4d6b6d392ec6b5b4c69692992c7aeb 02747177 # 20\n",
      "success: 3ce42bc74819f5dd56f6fc4b4ce1db04 02747177 # 21\n",
      "success: a97a00bee5585e49f05defab1869a09 03001627 # 1\n",
      "success: 662928421872897f489452a0032ea575 03001627 # 2\n",
      "success: 97f1121561e481a3a1f1563b05df75c6 03001627 # 3\n",
      "success: 4607280c3a4286b7319c7c751f273141 03001627 # 4\n",
      "success: 6a878ab386c927e6d1a63a2e2039ff73 03001627 # 5\n",
      "success: c9cc8df04240b27890907a4c1a185a7 03001627 # 6\n",
      "success: 3457146f11dab7eff3c9c1464e55d580 03001627 # 7\n",
      "success: 7220dcc0f3f95da3a84d309c7a35a478 03001627 # 8\n",
      "success: 5c52a6b471eb82b64ccf4672ec1e7efc 03001627 # 9\n",
      "success: 10c08a28cae054e53a762233fffc49ea 03001627 # 10\n",
      "success: 46dfeffa91719044de2bbe257d2639e3 03001627 # 11\n",
      "success: 9adb6a665f99addc8a4fd70ea4c8b4d9 03001627 # 12\n",
      "success: ce055b7a4cccc7e182db9fca4b68095 03001627 # 13\n",
      "success: ef1152b1660592d413f0924ccc9628e5 03001627 # 14\n",
      "success: 1ff1912cc74a76c3b2152dcc3ff6a477 03001627 # 15\n",
      "success: e60f50cdb48c2626d61bb0c6c287d278 03001627 # 16\n",
      "success: e5d6c3d62f96e28db3d655d5fe021844 03001627 # 17\n",
      "success: f9e386d968653602d68fb8f5d99affa0 03001627 # 18\n",
      "success: 59fd3d1409c0ee2e47bc3701b998a7d5 03001627 # 19\n",
      "success: eb59a4b8deddc6f659fe320c015eae2 03001627 # 20\n",
      "success: 450d40600ed92c7de9ad5e44c87685c0 03001627 # 21\n",
      "success: 1101146651cd32a1bd09c0f277d16187 02818832 # 1\n",
      "success: 90d5d27ab2a94109a043a79379c5661d 02818832 # 2\n"
     ]
    },
    {
     "name": "stdout",
     "output_type": "stream",
     "text": [
      "success: bb1f8f4efd67582aa4aa57d4816c68a3 02818832 # 3\n",
      "success: 1ef20a206e940a4bd79d7db7b8ed51c8 02818832 # 4\n",
      "success: a8cfed0a1b9451c9d213467246722099 02818832 # 5\n",
      "success: c758919a1fbe3d0c9cef17528faf7bc5 02818832 # 6\n",
      "success: b6ac23d327248d72627bb9f102840372 02818832 # 7\n",
      "success: 97f9d6942dfc12c08880edc6251fa529 02818832 # 8\n",
      "success: a7d64e6a7223641733b13410d81359e4 02818832 # 9\n",
      "success: ce0f3c9d6a0b0cda71010004e0594e66 02818832 # 10\n",
      "success: d8de84e7c0f8cbb19473aab1da686220 02818832 # 11\n",
      "success: 5f9dd5306ad6b3539867b7eda2e4d345 02818832 # 12\n",
      "success: 1f11b3d9953fabcf8b4396b18c85cf0f 02818832 # 13\n",
      "success: d3aa611e639ea0228998b3b64a143d42 02818832 # 14\n",
      "success: c7f039115a83939ebbc004a1c4eccc8 02818832 # 15\n",
      "success: 9daa02ae72e74b3f6bb2e9a62ccd177a 02818832 # 16\n",
      "success: 560854f624e60b6cadab4c26397edfab 02818832 # 17\n",
      "success: 30eb0a2f835b91b19e9c6b0794a3b4d8 02818832 # 18\n",
      "success: 3fc3087faa29bce5b1b6b0c5ddacb607 02818832 # 19\n",
      "success: 8a3240bc541767544b44261aa73cb2d9 02818832 # 20\n",
      "success: 1e820e0daaae16c7c3bd24f986301745 02818832 # 21\n",
      "success: e3d3c8dfcb19d920cc3e9831f31c9164 04256520 # 1\n",
      "success: f4370eb6449a1e8e191682d3b3321017 04256520 # 2\n",
      "success: a9a8156722fa81dcbc36ee6cb276b00a 04256520 # 3\n",
      "success: 1ff1912cc74a76c3b2152dcc3ff6a477 04256520 # 4\n",
      "success: bf816001f25b2ff822e11aea23332c0 04256520 # 5\n",
      "success: c49d9fb6c8b32b265beaf00da5b709c2 04256520 # 6\n",
      "success: aa7dbd4acb4878c9620f1933fa113025 04256520 # 7\n",
      "success: 431ed7bd770ecdcafebad4f49b26ec52 04256520 # 8\n",
      "success: a0a164ffbbbdac8d52979c729a1f9cc2 04256520 # 9\n",
      "success: 1b8894ce5f53e0007143b902ce4e435d 04256520 # 10\n",
      "success: 10e0543e6e316dca30b07c64830a47f3 04256520 # 11\n",
      "success: 4b86c8d86e181ed8f51f77a6d7299806 04256520 # 12\n",
      "success: 374fe2584abb594da094848ea4d06501 04256520 # 13\n",
      "success: 16ca439cd60eae5f23500a5b036df62e 04256520 # 14\n",
      "success: 1f28f2ccce4940f2c6fe57159221338c 04256520 # 15\n",
      "success: 66c8df461f312684d329896bbf26eda9 04256520 # 16\n",
      "success: 45ff5f465a6a907488e82c4bb71ec6f6 04256520 # 17\n",
      "success: a53114ab5cfe2048f51f77a6d7299806 04256520 # 18\n",
      "success: f2fbd71be2c50fd89fb1d3c5138b2800 04256520 # 19\n",
      "success: 4b139ceeb56ca3a1991d32d5bc1065a5 04256520 # 20\n",
      "success: 216821d05f00b1ccc3bd24f986301745 04256520 # 21\n",
      "success: 7b92f6facc2a27bc84cc0348a73b80c3 04379243 # 1\n",
      "success: 4442b044230ac5c043dbb6421d614c0d 04379243 # 2\n",
      "success: 97610f0edc786956d5cc62720ec8273c 04379243 # 3\n",
      "success: c363667046c562c7d9c568a52c35ec71 04379243 # 4\n",
      "success: 6c763c259b83b9bcbeedb4c8fd29e2d1 04379243 # 5\n",
      "success: 56e46d8bbb70b17491829b477862aff6 04379243 # 6\n",
      "success: 7178d8a2f91a9e1c713656cb7b79f97c 04379243 # 7\n",
      "success: 3889c517afd62ac5dbe9c90af547c85d 04379243 # 8\n",
      "success: 421657269cac10f7492d9da2668ec34c 04379243 # 9\n",
      "success: 7d95cbca44393d12ca39a5500b69b164 04379243 # 10\n",
      "success: 64d243c58e649783002761e7a3ba3bd 04379243 # 11\n",
      "success: 65ad913e23eec800cea003eff0268278 04379243 # 12\n",
      "success: f67d8afd7611fcdb45e0993de2a122d7 04379243 # 13\n",
      "success: b5d5db47b33a9186ffac3d5f2301b75e 04379243 # 14\n",
      "success: 5b3b19203b5da49c310af74324aae27f 04379243 # 15\n",
      "success: c1254fc0d8d0625b8738e7290b6f3237 04379243 # 16\n",
      "success: 7c71421a06cee4eb85718c281d7fdf61 04379243 # 17\n",
      "success: a9dfd3433837da823fe4267232c5893a 04379243 # 18\n",
      "success: 1805ca3ac2779a443eec26c23f5bc80b 04379243 # 19\n",
      "success: 2ca0370bb8ba5ad0e46a4046edfd3265 04379243 # 20\n",
      "success: 3ac69f9e2517f836a341228b21d337a9 04379243 # 21\n",
      "success: f79cd66d0a369bdb29a42a0444436860 03636649 # 1\n",
      "success: 5aaf61da59f1c0773225afab722d9fd2 03636649 # 2\n",
      "success: 2388c99892c2185268d1b9a1d97e2846 03636649 # 3\n",
      "success: 5830c288acd8dbc5f71f6713526f9507 03636649 # 4\n",
      "success: 221e2caf85f9bc5a2f9aa70de681f2c4 03636649 # 5\n",
      "success: e8006513d5f46d79e738f481f8560d58 03636649 # 6\n",
      "success: a072cd9c2593414031ae8c8ff1eb3d45 03636649 # 7\n",
      "success: 85b3f0b7d9968d79664b3b9b23ddfcbc 03636649 # 8\n",
      "success: ab999b20d88829d5efb94709f30ce0d2 03636649 # 9\n",
      "success: 8338a18d589c26d21c648623457982d0 03636649 # 10\n",
      "success: b37e07ac31fa4f311735ea0e092a805a 03636649 # 11\n",
      "success: 90e4219f897af979cbde89e0c48a01bf 03636649 # 12\n",
      "success: ca6812040234d1ecf57534363fbbac3 03636649 # 13\n",
      "success: 967b6aa33d17c109e81edb73cdd34eeb 03636649 # 14\n",
      "success: e1916a904163748e8cc413950b617e8f 03636649 # 15\n",
      "success: 23a4572a96dda133d624bbdc22e247c8 03636649 # 16\n",
      "success: 58d8496e15d6945bc562b0b258e20992 03636649 # 17\n",
      "success: 5d45d41ee7fea0187cbb0b604dd1148d 03636649 # 18\n",
      "success: a0812cee3fff72103ca265f557f5dc3e 03636649 # 19\n",
      "success: f01cf64f05572ac4b509f4ddcfa8ca1 03636649 # 20\n",
      "success: 3bd2db092bede98957e3b0a0099797c 03636649 # 21\n",
      "success: 2a77ba363947f4f38a9641b35ef045a 03691459 # 1\n",
      "success: 2629234a2fa847dd9b106ceb230ede0 03691459 # 2\n",
      "success: 74a4f472155ed5a3b2bf4f773fe0e622 03691459 # 3\n",
      "success: 62021776119f573bc7c51d4ea74651a7 03691459 # 4\n",
      "success: 9403368e6a0bebf5664c61db46dc2c9e 03691459 # 5\n",
      "success: f6958e13ea65bd521b45df3fb820c9cc 03691459 # 6\n",
      "success: 8b73786c112d262d4852385de47501f6 03691459 # 7\n",
      "success: 88bddaa41de4fc386f936ccdbda50e38 03691459 # 8\n",
      "success: b06106540932feefbb9b205a4c97698a 03691459 # 9\n",
      "success: 5028625facbf77991a622b6f91cfddf 03691459 # 10\n",
      "success: 46d03a4d9dec071d1047e2dc3fdce97a 03691459 # 11\n",
      "success: 9d62c46fc3fd343d1f9f3ce366e030fb 03691459 # 12\n",
      "success: ae66dc3ecd9c8932fc459988e6a7eba7 03691459 # 13\n",
      "success: e270c383e0d9c8e0ce029fab54b6cfbd 03691459 # 14\n",
      "success: 155b9ee29dd8f068f9872b1642da5de0 03691459 # 15\n",
      "success: 84adc06696eea1774a2b8524bd5c98 03691459 # 16\n",
      "success: 986bd3ba96016425cc0d3a65104f5927 03691459 # 17\n",
      "success: 62e30deaa5aeac183ef7ad0f5cedb0e3 03691459 # 18\n",
      "success: cbfa6c888ffd893b31b5f9e34ff03906 03691459 # 19\n",
      "success: a18c311eba5e551d20363e2561dd589a 03691459 # 20\n",
      "success: ab84f70571827b76dfdc04b8b8434e84 03691459 # 21\n",
      "success: cb38405e384c79c05e4e385b035691bb 02808440 # 1\n",
      "success: 95b7632f605a0223321831d2245cf06 02808440 # 2\n",
      "success: 2bbad1610128749e1c17aef130ed6213 02808440 # 3\n",
      "success: e37fc3b3ec688a44a451f23dc98be5f0 02808440 # 4\n",
      "success: 6787698a1fbd9a6d44221bef0fa3c36b 02808440 # 5\n",
      "success: 1cc2487bfbc0209e3321831d2245cf06 02808440 # 6\n",
      "success: 868d4ab648e8cf62b2f1a4f3f8449762 02808440 # 7\n",
      "success: caccc22a1266150d3321831d2245cf06 02808440 # 8\n",
      "success: ec1d737b5962bd306e12d65bc1882e95 02808440 # 9\n",
      "success: f9fe136c1738dcb1ec3cc26553cfa06b 02808440 # 10\n",
      "success: 3c16de8249619580fe52ffd0e748a1ab 02808440 # 11\n",
      "success: 30518996c975c64bb0c867f4bb42a876 02808440 # 12\n",
      "success: 3358fed603caf82bb362845c6edb57fc 02808440 # 13\n",
      "success: c6bdaf60ca0529cdf06b5a8163839b92 02808440 # 14\n",
      "success: a1774ed7dd03d7b717e29780ff39c480 02808440 # 15\n",
      "success: 8177f9d2397e8dd3d85b29704f5fc7f2 02808440 # 16\n",
      "success: 8634d5d3fbd559c8c49077a31b9f504a 02808440 # 17\n",
      "success: b768643834bdd3eedc749e0740d903a 02808440 # 18\n",
      "success: ec840887e7cae5b6ccd0340812259a39 02808440 # 19\n",
      "success: 2962e044492c43f2921bd8a746d486d6 02808440 # 20\n",
      "success: c3524cfa04be2a427568fd1ca5bc0200 02808440 # 21\n",
      "{'03211117': 21, '02871439': 21, '03046257': 21, '02933112': 21, '03337140': 21, '02747177': 21, '03001627': 20, '04256520': 21, '02818832': 21, '04379243': 21, '03636649': 21, '03691459': 21, '02808440': 21}\n",
      "Loaded 5032 word vectors.\n",
      "length dict: 272\n",
      "Number of train samples: 218\n",
      "Number of val samples: 27\n",
      "Number of test samples: 27\n",
      "Created following files:\n",
      "data_train_gpu.json\n",
      "data_val_gpu.json\n",
      "data_test_gpu.json\n",
      "class_dict_gpu.json\n"
     ]
    }
   ],
   "source": [

    "input_folder = '/data'\n",
    "suffix = '_test_gpu2' #suffix will append data_trainxxxx.json\n",
    "max_elements_per_class = 5\n",

    "create_dict.create_dictionary(input_folder, max_elements_per_class, suffix)"
   ]
  },
  {
   "cell_type": "markdown",
   "metadata": {},
   "source": [
    "# Initialize Network"
   ]
  },
  {
   "cell_type": "code",

   "execution_count": null,

   "metadata": {},
   "outputs": [
    {
     "ename": "RuntimeError",
     "evalue": "Attempting to deserialize object on a CUDA device but torch.cuda.is_available() is False. If you are running on a CPU-only machine, please use torch.load with map_location='cpu' to map your storages to the CPU.",
     "output_type": "error",
     "traceback": [
      "\u001b[0;31m-----------------------------------------------------------------------\u001b[0m",
      "\u001b[0;31mRuntimeError\u001b[0m                          Traceback (most recent call last)",
      "\u001b[0;32m<ipython-input-5-e759651387f3>\u001b[0m in \u001b[0;36m<module>\u001b[0;34m\u001b[0m\n\u001b[1;32m     18\u001b[0m \u001b[0;32mif\u001b[0m \u001b[0mos\u001b[0m\u001b[0;34m.\u001b[0m\u001b[0mpath\u001b[0m\u001b[0;34m.\u001b[0m\u001b[0misfile\u001b[0m\u001b[0;34m(\u001b[0m\u001b[0mpath_to_params\u001b[0m\u001b[0;34m)\u001b[0m\u001b[0;34m:\u001b[0m\u001b[0;34m\u001b[0m\u001b[0;34m\u001b[0m\u001b[0m\n\u001b[1;32m     19\u001b[0m     \u001b[0;32mif\u001b[0m \u001b[0mos\u001b[0m\u001b[0;34m.\u001b[0m\u001b[0mstat\u001b[0m\u001b[0;34m(\u001b[0m\u001b[0mpath_to_params\u001b[0m\u001b[0;34m)\u001b[0m\u001b[0;34m.\u001b[0m\u001b[0mst_size\u001b[0m \u001b[0;34m!=\u001b[0m \u001b[0;36m0\u001b[0m\u001b[0;34m:\u001b[0m\u001b[0;34m\u001b[0m\u001b[0;34m\u001b[0m\u001b[0m\n\u001b[0;32m---> 20\u001b[0;31m         \u001b[0mnet\u001b[0m\u001b[0;34m.\u001b[0m\u001b[0mload_state_dict\u001b[0m\u001b[0;34m(\u001b[0m\u001b[0mtorch\u001b[0m\u001b[0;34m.\u001b[0m\u001b[0mload\u001b[0m\u001b[0;34m(\u001b[0m\u001b[0mpath_to_params\u001b[0m\u001b[0;34m)\u001b[0m\u001b[0;34m)\u001b[0m  \u001b[0;31m#Loads pretrained net if file exists and if not empty\u001b[0m\u001b[0;34m\u001b[0m\u001b[0;34m\u001b[0m\u001b[0m\n\u001b[0m\u001b[1;32m     21\u001b[0m \u001b[0;32melse\u001b[0m\u001b[0;34m:\u001b[0m\u001b[0;34m\u001b[0m\u001b[0;34m\u001b[0m\u001b[0m\n\u001b[1;32m     22\u001b[0m     \u001b[0mopen\u001b[0m\u001b[0;34m(\u001b[0m\u001b[0mpath_to_params\u001b[0m\u001b[0;34m,\u001b[0m \u001b[0;34m\"x\"\u001b[0m\u001b[0;34m)\u001b[0m \u001b[0;31m#Creates parameter file if it does not exist\u001b[0m\u001b[0;34m\u001b[0m\u001b[0;34m\u001b[0m\u001b[0m\n",
      "\u001b[0;32m/Applications/anaconda3/lib/python3.6/site-packages/torch/serialization.py\u001b[0m in \u001b[0;36mload\u001b[0;34m(f, map_location, pickle_module)\u001b[0m\n\u001b[1;32m    365\u001b[0m         \u001b[0mf\u001b[0m \u001b[0;34m=\u001b[0m \u001b[0mopen\u001b[0m\u001b[0;34m(\u001b[0m\u001b[0mf\u001b[0m\u001b[0;34m,\u001b[0m \u001b[0;34m'rb'\u001b[0m\u001b[0;34m)\u001b[0m\u001b[0;34m\u001b[0m\u001b[0;34m\u001b[0m\u001b[0m\n\u001b[1;32m    366\u001b[0m     \u001b[0;32mtry\u001b[0m\u001b[0;34m:\u001b[0m\u001b[0;34m\u001b[0m\u001b[0;34m\u001b[0m\u001b[0m\n\u001b[0;32m--> 367\u001b[0;31m         \u001b[0;32mreturn\u001b[0m \u001b[0m_load\u001b[0m\u001b[0;34m(\u001b[0m\u001b[0mf\u001b[0m\u001b[0;34m,\u001b[0m \u001b[0mmap_location\u001b[0m\u001b[0;34m,\u001b[0m \u001b[0mpickle_module\u001b[0m\u001b[0;34m)\u001b[0m\u001b[0;34m\u001b[0m\u001b[0;34m\u001b[0m\u001b[0m\n\u001b[0m\u001b[1;32m    368\u001b[0m     \u001b[0;32mfinally\u001b[0m\u001b[0;34m:\u001b[0m\u001b[0;34m\u001b[0m\u001b[0;34m\u001b[0m\u001b[0m\n\u001b[1;32m    369\u001b[0m         \u001b[0;32mif\u001b[0m \u001b[0mnew_fd\u001b[0m\u001b[0;34m:\u001b[0m\u001b[0;34m\u001b[0m\u001b[0;34m\u001b[0m\u001b[0m\n",
      "\u001b[0;32m/Applications/anaconda3/lib/python3.6/site-packages/torch/serialization.py\u001b[0m in \u001b[0;36m_load\u001b[0;34m(f, map_location, pickle_module)\u001b[0m\n\u001b[1;32m    536\u001b[0m     \u001b[0munpickler\u001b[0m \u001b[0;34m=\u001b[0m \u001b[0mpickle_module\u001b[0m\u001b[0;34m.\u001b[0m\u001b[0mUnpickler\u001b[0m\u001b[0;34m(\u001b[0m\u001b[0mf\u001b[0m\u001b[0;34m)\u001b[0m\u001b[0;34m\u001b[0m\u001b[0;34m\u001b[0m\u001b[0m\n\u001b[1;32m    537\u001b[0m     \u001b[0munpickler\u001b[0m\u001b[0;34m.\u001b[0m\u001b[0mpersistent_load\u001b[0m \u001b[0;34m=\u001b[0m \u001b[0mpersistent_load\u001b[0m\u001b[0;34m\u001b[0m\u001b[0;34m\u001b[0m\u001b[0m\n\u001b[0;32m--> 538\u001b[0;31m     \u001b[0mresult\u001b[0m \u001b[0;34m=\u001b[0m \u001b[0munpickler\u001b[0m\u001b[0;34m.\u001b[0m\u001b[0mload\u001b[0m\u001b[0;34m(\u001b[0m\u001b[0;34m)\u001b[0m\u001b[0;34m\u001b[0m\u001b[0;34m\u001b[0m\u001b[0m\n\u001b[0m\u001b[1;32m    539\u001b[0m \u001b[0;34m\u001b[0m\u001b[0m\n\u001b[1;32m    540\u001b[0m     \u001b[0mdeserialized_storage_keys\u001b[0m \u001b[0;34m=\u001b[0m \u001b[0mpickle_module\u001b[0m\u001b[0;34m.\u001b[0m\u001b[0mload\u001b[0m\u001b[0;34m(\u001b[0m\u001b[0mf\u001b[0m\u001b[0;34m)\u001b[0m\u001b[0;34m\u001b[0m\u001b[0;34m\u001b[0m\u001b[0m\n",
      "\u001b[0;32m/Applications/anaconda3/lib/python3.6/site-packages/torch/serialization.py\u001b[0m in \u001b[0;36mpersistent_load\u001b[0;34m(saved_id)\u001b[0m\n\u001b[1;32m    502\u001b[0m             \u001b[0;32mif\u001b[0m \u001b[0mroot_key\u001b[0m \u001b[0;32mnot\u001b[0m \u001b[0;32min\u001b[0m \u001b[0mdeserialized_objects\u001b[0m\u001b[0;34m:\u001b[0m\u001b[0;34m\u001b[0m\u001b[0;34m\u001b[0m\u001b[0m\n\u001b[1;32m    503\u001b[0m                 deserialized_objects[root_key] = restore_location(\n\u001b[0;32m--> 504\u001b[0;31m                     data_type(size), location)\n\u001b[0m\u001b[1;32m    505\u001b[0m             \u001b[0mstorage\u001b[0m \u001b[0;34m=\u001b[0m \u001b[0mdeserialized_objects\u001b[0m\u001b[0;34m[\u001b[0m\u001b[0mroot_key\u001b[0m\u001b[0;34m]\u001b[0m\u001b[0;34m\u001b[0m\u001b[0;34m\u001b[0m\u001b[0m\n\u001b[1;32m    506\u001b[0m             \u001b[0;32mif\u001b[0m \u001b[0mview_metadata\u001b[0m \u001b[0;32mis\u001b[0m \u001b[0;32mnot\u001b[0m \u001b[0;32mNone\u001b[0m\u001b[0;34m:\u001b[0m\u001b[0;34m\u001b[0m\u001b[0;34m\u001b[0m\u001b[0m\n",
      "\u001b[0;32m/Applications/anaconda3/lib/python3.6/site-packages/torch/serialization.py\u001b[0m in \u001b[0;36mdefault_restore_location\u001b[0;34m(storage, location)\u001b[0m\n\u001b[1;32m    111\u001b[0m \u001b[0;32mdef\u001b[0m \u001b[0mdefault_restore_location\u001b[0m\u001b[0;34m(\u001b[0m\u001b[0mstorage\u001b[0m\u001b[0;34m,\u001b[0m \u001b[0mlocation\u001b[0m\u001b[0;34m)\u001b[0m\u001b[0;34m:\u001b[0m\u001b[0;34m\u001b[0m\u001b[0;34m\u001b[0m\u001b[0m\n\u001b[1;32m    112\u001b[0m     \u001b[0;32mfor\u001b[0m \u001b[0m_\u001b[0m\u001b[0;34m,\u001b[0m \u001b[0m_\u001b[0m\u001b[0;34m,\u001b[0m \u001b[0mfn\u001b[0m \u001b[0;32min\u001b[0m \u001b[0m_package_registry\u001b[0m\u001b[0;34m:\u001b[0m\u001b[0;34m\u001b[0m\u001b[0;34m\u001b[0m\u001b[0m\n\u001b[0;32m--> 113\u001b[0;31m         \u001b[0mresult\u001b[0m \u001b[0;34m=\u001b[0m \u001b[0mfn\u001b[0m\u001b[0;34m(\u001b[0m\u001b[0mstorage\u001b[0m\u001b[0;34m,\u001b[0m \u001b[0mlocation\u001b[0m\u001b[0;34m)\u001b[0m\u001b[0;34m\u001b[0m\u001b[0;34m\u001b[0m\u001b[0m\n\u001b[0m\u001b[1;32m    114\u001b[0m         \u001b[0;32mif\u001b[0m \u001b[0mresult\u001b[0m \u001b[0;32mis\u001b[0m \u001b[0;32mnot\u001b[0m \u001b[0;32mNone\u001b[0m\u001b[0;34m:\u001b[0m\u001b[0;34m\u001b[0m\u001b[0;34m\u001b[0m\u001b[0m\n\u001b[1;32m    115\u001b[0m             \u001b[0;32mreturn\u001b[0m \u001b[0mresult\u001b[0m\u001b[0;34m\u001b[0m\u001b[0;34m\u001b[0m\u001b[0m\n",
      "\u001b[0;32m/Applications/anaconda3/lib/python3.6/site-packages/torch/serialization.py\u001b[0m in \u001b[0;36m_cuda_deserialize\u001b[0;34m(obj, location)\u001b[0m\n\u001b[1;32m     92\u001b[0m \u001b[0;32mdef\u001b[0m \u001b[0m_cuda_deserialize\u001b[0m\u001b[0;34m(\u001b[0m\u001b[0mobj\u001b[0m\u001b[0;34m,\u001b[0m \u001b[0mlocation\u001b[0m\u001b[0;34m)\u001b[0m\u001b[0;34m:\u001b[0m\u001b[0;34m\u001b[0m\u001b[0;34m\u001b[0m\u001b[0m\n\u001b[1;32m     93\u001b[0m     \u001b[0;32mif\u001b[0m \u001b[0mlocation\u001b[0m\u001b[0;34m.\u001b[0m\u001b[0mstartswith\u001b[0m\u001b[0;34m(\u001b[0m\u001b[0;34m'cuda'\u001b[0m\u001b[0;34m)\u001b[0m\u001b[0;34m:\u001b[0m\u001b[0;34m\u001b[0m\u001b[0;34m\u001b[0m\u001b[0m\n\u001b[0;32m---> 94\u001b[0;31m         \u001b[0mdevice\u001b[0m \u001b[0;34m=\u001b[0m \u001b[0mvalidate_cuda_device\u001b[0m\u001b[0;34m(\u001b[0m\u001b[0mlocation\u001b[0m\u001b[0;34m)\u001b[0m\u001b[0;34m\u001b[0m\u001b[0;34m\u001b[0m\u001b[0m\n\u001b[0m\u001b[1;32m     95\u001b[0m         \u001b[0;32mreturn\u001b[0m \u001b[0mobj\u001b[0m\u001b[0;34m.\u001b[0m\u001b[0mcuda\u001b[0m\u001b[0;34m(\u001b[0m\u001b[0mdevice\u001b[0m\u001b[0;34m)\u001b[0m\u001b[0;34m\u001b[0m\u001b[0;34m\u001b[0m\u001b[0m\n\u001b[1;32m     96\u001b[0m \u001b[0;34m\u001b[0m\u001b[0m\n",
      "\u001b[0;32m/Applications/anaconda3/lib/python3.6/site-packages/torch/serialization.py\u001b[0m in \u001b[0;36mvalidate_cuda_device\u001b[0;34m(location)\u001b[0m\n\u001b[1;32m     76\u001b[0m \u001b[0;34m\u001b[0m\u001b[0m\n\u001b[1;32m     77\u001b[0m     \u001b[0;32mif\u001b[0m \u001b[0;32mnot\u001b[0m \u001b[0mtorch\u001b[0m\u001b[0;34m.\u001b[0m\u001b[0mcuda\u001b[0m\u001b[0;34m.\u001b[0m\u001b[0mis_available\u001b[0m\u001b[0;34m(\u001b[0m\u001b[0;34m)\u001b[0m\u001b[0;34m:\u001b[0m\u001b[0;34m\u001b[0m\u001b[0;34m\u001b[0m\u001b[0m\n\u001b[0;32m---> 78\u001b[0;31m         raise RuntimeError('Attempting to deserialize object on a CUDA '\n\u001b[0m\u001b[1;32m     79\u001b[0m                            \u001b[0;34m'device but torch.cuda.is_available() is False. '\u001b[0m\u001b[0;34m\u001b[0m\u001b[0;34m\u001b[0m\u001b[0m\n\u001b[1;32m     80\u001b[0m                            \u001b[0;34m'If you are running on a CPU-only machine, '\u001b[0m\u001b[0;34m\u001b[0m\u001b[0;34m\u001b[0m\u001b[0m\n",
      "\u001b[0;31mRuntimeError\u001b[0m: Attempting to deserialize object on a CUDA device but torch.cuda.is_available() is False. If you are running on a CPU-only machine, please use torch.load with map_location='cpu' to map your storages to the CPU."
     ]
    }
   ],
   "source": [
    "import SiameseNet\n",
    "\n",
    "device = torch.device(\"cuda:0\" if torch.cuda.torch.cuda.is_available() else \"cpu\")\n",
    "\n",
    "batch_size = 2\n",
    "net = SiameseNet.SiameseNet(batch_size)\n",
    "suffix = '_gpu' # comment in if not coming from generating the dataset\n",
    "path_to_params = \"models/allClasses500_300epochs_m1_LR1e5.pt\" # if file does not exist or is empty it starts from untrained and later saves to the file\n",
    "\n",
    "# shift to GPU if available\n",
    "\n",
    "net.to(device)\n",
    "working_dir = os.getcwd()\n",
    "data_dir_train = os.path.join(working_dir, 'data_train'+suffix+'.json')\n",
    "data_dir_val = os.path.join(working_dir, 'data_val'+suffix+'.json')\n",
    "class_dir = os.path.join(working_dir, 'class_dict'+suffix+'.json')\n",
    "\n",
    "if os.path.isfile(path_to_params):\n",
    "    if os.stat(path_to_params).st_size != 0:\n",
    "        net.load_state_dict(torch.load(path_to_params))  #Loads pretrained net if file exists and if not empty\n",
    "else:\n",
    "    open(path_to_params, \"x\") #Creates parameter file if it does not exist"
   ]
  },
  {
   "cell_type": "code",
   "execution_count": null,
   "metadata": {},
   "outputs": [],
   "source": [
    "device"
   ]
  },
  {
   "cell_type": "markdown",
   "metadata": {},
   "source": [
    "# Train Network"
   ]
  },
  {
   "cell_type": "raw",
   "metadata": {},
   "source": [
    "#execute for tensorboard\n",
    "tensorboard --logdir runs"
   ]
  },
  {
   "cell_type": "code",
   "execution_count": null,
   "metadata": {},
   "outputs": [],
   "source": [
    "#training parameters\n",
    "\n",
    "writer_suffix = 'testing'\n",
    "margin = 0.5\n",
    "num_epochs = 1\n",
    "print_batch = 1\n",
    "lr = 0.0001\n",
    "\n"
   ]
  },
  {
   "cell_type": "code",
   "execution_count": null,
   "metadata": {
    "scrolled": true
   },
   "outputs": [],
   "source": [
    "net = SiameseNet.train(net, num_epochs, margin, lr, print_batch, \n",
    "                       data_dir_train, data_dir_val, writer_suffix, path_to_params, working_dir)"
   ]
  },
  {
   "cell_type": "markdown",
   "metadata": {},
   "source": [
    "# Validation"
   ]
  },
  {
   "cell_type": "code",
   "execution_count": null,
   "metadata": {},
   "outputs": [],
   "source": [
    "margin = 0.5\n",
    "writer_suffix = 'Val'\n",
    "SiameseNet.val(net, margin, data_dir_val, writer_suffix, working_dir, class_dir)"
   ]
  },
  {
   "cell_type": "markdown",
   "metadata": {},
   "source": [
    "# Retrieval"
   ]
  },
  {
   "cell_type": "code",
   "execution_count": null,
   "metadata": {},
   "outputs": [],
   "source": [
    "y_true, y_pred, ids, shape, description = SiameseNet.retrieval(net, data_dir_val, working_dir, print_nn=False)"
   ]
  },
  {
   "cell_type": "code",
   "execution_count": null,
   "metadata": {},
   "outputs": [],
   "source": [
    "num_KNN = 4\n",
    "max_show = 3\n",
    "utils.retrieve_images(y_pred, ids, data_dir_val, class_dir, num_KNN, max_show, shuffle=True)"
   ]
  },
  {
   "cell_type": "code",
   "execution_count": null,
   "metadata": {},
   "outputs": [],
   "source": [
    "sentence = 'This is a black chair'\n",
    "#sentence = input(\"Enter sentence\")\n",
    "num_KNN = 4\n",
    "utils.retrieve_one_sentence(net, data_dir_val, working_dir, sentence, class_dir, num_KNN)\n"
   ]
  },
  {
   "cell_type": "code",
   "execution_count": null,
   "metadata": {},
   "outputs": [],
   "source": []
  }
 ],
 "metadata": {
  "kernelspec": {
   "display_name": "Python 3",
   "language": "python",
   "name": "python3"
  },
  "language_info": {
   "codemirror_mode": {
    "name": "ipython",
    "version": 3
   },
   "file_extension": ".py",
   "mimetype": "text/x-python",
   "name": "python",
   "nbconvert_exporter": "python",
   "pygments_lexer": "ipython3",
   "version": "3.7.0"
  }
 },
 "nbformat": 4,
 "nbformat_minor": 2
}
